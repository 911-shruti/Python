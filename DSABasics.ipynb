{
  "nbformat": 4,
  "nbformat_minor": 0,
  "metadata": {
    "colab": {
      "provenance": [],
      "authorship_tag": "ABX9TyP+ahZVWuMCBW3EDfsPo5uo",
      "include_colab_link": true
    },
    "kernelspec": {
      "name": "python3",
      "display_name": "Python 3"
    },
    "language_info": {
      "name": "python"
    }
  },
  "cells": [
    {
      "cell_type": "markdown",
      "metadata": {
        "id": "view-in-github",
        "colab_type": "text"
      },
      "source": [
        "<a href=\"https://colab.research.google.com/github/911-shruti/Python/blob/main/DSABasics.ipynb\" target=\"_parent\"><img src=\"https://colab.research.google.com/assets/colab-badge.svg\" alt=\"Open In Colab\"/></a>"
      ]
    },
    {
      "cell_type": "code",
      "execution_count": null,
      "metadata": {
        "colab": {
          "base_uri": "https://localhost:8080/"
        },
        "id": "xUwkqK6_Dn88",
        "outputId": "2915bf2c-4d39-43c6-f02c-2eac5b6e4402"
      },
      "outputs": [
        {
          "output_type": "stream",
          "name": "stdout",
          "text": [
            "enter the no.1234\n",
            "4\n",
            "3\n",
            "2\n",
            "1\n"
          ]
        }
      ],
      "source": [
        "# Extraction of numbers using loops\n",
        "n = int(input(\"enter the no.\"))\n",
        "num = n\n",
        "while num > 0:\n",
        "  lastdigit = num%10\n",
        "  print(lastdigit)\n",
        "  num = num//10"
      ]
    },
    {
      "cell_type": "code",
      "source": [
        "# Count a no. in an integer\n",
        "n = int (input(\"enter the no.\"))\n",
        "num = n\n",
        "count = 0\n",
        "while num>0:\n",
        "  last_digit = num%10\n",
        "  num = num//10\n",
        "  count = count+1\n",
        "print(count)\n"
      ],
      "metadata": {
        "colab": {
          "base_uri": "https://localhost:8080/"
        },
        "id": "VNROxDTIFON7",
        "outputId": "1e3a93eb-9297-4eee-9a27-ff6dcdc17556"
      },
      "execution_count": null,
      "outputs": [
        {
          "output_type": "stream",
          "name": "stdout",
          "text": [
            "enter the no.23484\n",
            "5\n"
          ]
        }
      ]
    },
    {
      "cell_type": "code",
      "source": [
        "# OR\n",
        "n = int (input(\"enter the no.\"))\n",
        "num = n\n",
        "from math import *\n",
        "def countDigit(num):\n",
        "  return int(log10(num)+1)\n",
        "  # if we calculate the log of any n sized digit we always end up with n-1.someDigit hence we have used that logic here\n",
        "countDigit(num)"
      ],
      "metadata": {
        "colab": {
          "base_uri": "https://localhost:8080/"
        },
        "id": "M-gRn73rF2k_",
        "outputId": "a669dae7-d058-4419-e103-7f3cba94b253"
      },
      "execution_count": null,
      "outputs": [
        {
          "name": "stdout",
          "output_type": "stream",
          "text": [
            "enter the no.679876\n"
          ]
        },
        {
          "output_type": "execute_result",
          "data": {
            "text/plain": [
              "6"
            ]
          },
          "metadata": {},
          "execution_count": 8
        }
      ]
    },
    {
      "cell_type": "markdown",
      "source": [
        "here we are using log to find out the nos. since we know that whenever we calculate log of n sized digit we get n-1.someDigit output and thats what we are using here.\n",
        "\n",
        "#Time Complexity\n",
        "whenever the no. of iteration in an loop depends on some specific digit as in our example the iterations are depending on 10 since we are calculating and comparing num by integer division //10 hence the output of time complexity will be : O(Logm(N))\n",
        "m= the frequent no. on which iteration of loop depends .\n",
        "N = inputted no. by user.\n",
        "\n",
        "#Space Complexity O(1)\n",
        "since we are only using a single space for the no. entered. and only using a constant space overall oeration.\n"
      ],
      "metadata": {
        "id": "sIYSQmd8I8vW"
      }
    },
    {
      "cell_type": "markdown",
      "source": [
        "#Palindrom:\n",
        "a palindrom is a no. which is same whether we read from left to right or right to left EG: nitin"
      ],
      "metadata": {
        "id": "ZMNUV8x1Leo7"
      }
    },
    {
      "cell_type": "code",
      "source": [
        "# Check Palindrom\n",
        "n = int(input(\"enter num\"))\n",
        "def Palindrom(n):\n",
        "    num = n\n",
        "    result = 0\n",
        "    while num>0:\n",
        "      Ld = num %10\n",
        "      result = (result*10)+Ld\n",
        "      num = num//100\n",
        "    return n==result\n",
        "\n",
        "Palindrom(n)\n"
      ],
      "metadata": {
        "colab": {
          "base_uri": "https://localhost:8080/"
        },
        "id": "cJejTnf7Ioad",
        "outputId": "8a549d4a-2721-4bc1-b98c-1669be27c4f6"
      },
      "execution_count": null,
      "outputs": [
        {
          "name": "stdout",
          "output_type": "stream",
          "text": [
            "enter num3244\n"
          ]
        },
        {
          "output_type": "execute_result",
          "data": {
            "text/plain": [
              "False"
            ]
          },
          "metadata": {},
          "execution_count": 11
        }
      ]
    },
    {
      "cell_type": "markdown",
      "source": [
        "Time Complexity : O(Log 10(N)),\n",
        "Space Complexity : O(N)"
      ],
      "metadata": {
        "id": "4mgRqiKCOryt"
      }
    },
    {
      "cell_type": "markdown",
      "source": [
        "#Armstrong Number:\n",
        "eg: 153 = 1^3 + 5^3 + 3^3,  here power = no. of digits\n",
        "\n",
        "eg: 1634 = 1^4 + 6^4 + 3^4 + 4^4   \n",
        "\n",
        "if the addition of these digits are equal to provided digits then its Armstrong no. if not then its not Armstrong no.\n"
      ],
      "metadata": {
        "id": "1sIKoSWQPHc8"
      }
    },
    {
      "cell_type": "code",
      "source": [
        "# Armstrong no.\n",
        "n = int(input())\n",
        "def armstrong(n):\n",
        "  num = n\n",
        "  total = 0\n",
        "  nod = len(str(num))\n",
        "  while num >0:\n",
        "    LD = num%10\n",
        "    total = total + (LD**nod )\n",
        "    num = num//10\n",
        "  return total==n\n",
        "\n",
        "armstrong(n)"
      ],
      "metadata": {
        "id": "v7PBh7NkN43c",
        "colab": {
          "base_uri": "https://localhost:8080/"
        },
        "outputId": "7994f354-5ef2-42e0-aa10-8846fc336acc"
      },
      "execution_count": 9,
      "outputs": [
        {
          "name": "stdout",
          "output_type": "stream",
          "text": [
            "235\n"
          ]
        },
        {
          "output_type": "execute_result",
          "data": {
            "text/plain": [
              "False"
            ]
          },
          "metadata": {},
          "execution_count": 9
        }
      ]
    },
    {
      "cell_type": "code",
      "source": [],
      "metadata": {
        "id": "jDMHPAjGP1b3"
      },
      "execution_count": 7,
      "outputs": []
    }
  ]
}