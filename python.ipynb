{
  "nbformat": 4,
  "nbformat_minor": 0,
  "metadata": {
    "colab": {
      "provenance": [],
      "authorship_tag": "ABX9TyPcL+64UoTNFOgqxyJ/Jfvs",
      "include_colab_link": true
    },
    "kernelspec": {
      "name": "python3",
      "display_name": "Python 3"
    },
    "language_info": {
      "name": "python"
    }
  },
  "cells": [
    {
      "cell_type": "markdown",
      "metadata": {
        "id": "view-in-github",
        "colab_type": "text"
      },
      "source": [
        "<a href=\"https://colab.research.google.com/github/911-shruti/Python/blob/main/python.ipynb\" target=\"_parent\"><img src=\"https://colab.research.google.com/assets/colab-badge.svg\" alt=\"Open In Colab\"/></a>"
      ]
    },
    {
      "cell_type": "code",
      "execution_count": null,
      "metadata": {
        "colab": {
          "base_uri": "https://localhost:8080/"
        },
        "id": "1Z6D8z-6q68D",
        "outputId": "d7556dc7-1ca7-4828-da0e-8fb82342f01c"
      },
      "outputs": [
        {
          "output_type": "stream",
          "name": "stdout",
          "text": [
            "hi world \n",
            " to this world \n",
            "t hope you injoy this \n"
          ]
        }
      ],
      "source": [
        "# writing multiple lines in a single parameter list\n",
        "print(\"hi world \\nto this world \\nt hope you injoy this \")"
      ]
    },
    {
      "cell_type": "code",
      "source": [
        "# use of apostrophy while using single qotation\n",
        "print('hi' everyone') # it will not work\n"
      ],
      "metadata": {
        "colab": {
          "base_uri": "https://localhost:8080/",
          "height": 106
        },
        "id": "AkXg-8KUrkE4",
        "outputId": "5ce37a81-eb46-4e48-80b2-1df98db73112"
      },
      "execution_count": null,
      "outputs": [
        {
          "output_type": "error",
          "ename": "SyntaxError",
          "evalue": "unterminated string literal (detected at line 2) (<ipython-input-2-9816be9f83b7>, line 2)",
          "traceback": [
            "\u001b[0;36m  File \u001b[0;32m\"<ipython-input-2-9816be9f83b7>\"\u001b[0;36m, line \u001b[0;32m2\u001b[0m\n\u001b[0;31m    print('hi' everyone') # it will not work\u001b[0m\n\u001b[0m                       ^\u001b[0m\n\u001b[0;31mSyntaxError\u001b[0m\u001b[0;31m:\u001b[0m unterminated string literal (detected at line 2)\n"
          ]
        }
      ]
    },
    {
      "cell_type": "code",
      "source": [
        "# this is the solution by adding backslash\n",
        "print('hi\\' everyone')"
      ],
      "metadata": {
        "colab": {
          "base_uri": "https://localhost:8080/"
        },
        "id": "RX4g07NCsC6M",
        "outputId": "2de33c42-223c-4153-cc36-388427371315"
      },
      "execution_count": null,
      "outputs": [
        {
          "output_type": "stream",
          "name": "stdout",
          "text": [
            "hi' everyone\n"
          ]
        }
      ]
    },
    {
      "cell_type": "code",
      "source": [
        "# comments: explaination refrence for programmers themselves about program\n",
        "\"\"\"\n",
        "  there are 2 types\n",
        " 1. Single line(#---)\n",
        " 2. Multiple line comments(\"\"\"----\"\"\")\n",
        "  \"\"\"\n",
        "\n"
      ],
      "metadata": {
        "id": "zG8LCaQssQ9U"
      },
      "execution_count": null,
      "outputs": []
    },
    {
      "cell_type": "code",
      "source": [
        "# Variables : containers in memory used to store values\n",
        "a = \"hello\"\n",
        "print(a)\n",
        "\"\"\" rules to create variables\n",
        "1. python is case sensitive.\n",
        "2. no space between name either underscore(_) or capitalization of words\n",
        "3. no variable name will start from special no. or symbol, but can use no.s in end of the name.\n",
        "\"\"\""
      ],
      "metadata": {
        "colab": {
          "base_uri": "https://localhost:8080/"
        },
        "id": "EfYoEMGDxNqN",
        "outputId": "5d4884cd-45c8-4caa-dd38-f7d9dc582172"
      },
      "execution_count": null,
      "outputs": [
        {
          "output_type": "stream",
          "name": "stdout",
          "text": [
            "hello\n"
          ]
        }
      ]
    },
    {
      "cell_type": "code",
      "source": [
        "# data-types & user-input\n",
        "\"\"\"\n",
        "text type:String(str)\n",
        "numeric :integers(int), floating points(float), complex\n",
        "sequence types: list tupple and range\n",
        "mapping type: dictionaries(dict)\n",
        "set type: set, frozenset\n",
        "boolean type: bool\n",
        "binary type: bytes , bytearray,memoryview\n",
        "none type: none\n",
        "\"\"\"\n",
        "# user input : to ask user for input, defoult data type is String\n",
        "name = input(\"enter your name here:\")\n",
        "age = int(input(\"enter your age here: \"))\n",
        "length = float(input(\"enter length  of rectangle here:\"))\n",
        "exp1 = eval(input(\"enter any equation here:\"))\n",
        "# evalute help us to solve any expression we give(3+5)or (print(hello world))\n",
        "name,age,length,exp1"
      ],
      "metadata": {
        "colab": {
          "base_uri": "https://localhost:8080/"
        },
        "id": "MTNn5Zq7xVbZ",
        "outputId": "8190cced-0a36-415f-8bd1-b1f2342c1af1"
      },
      "execution_count": null,
      "outputs": [
        {
          "output_type": "stream",
          "name": "stdout",
          "text": [
            "enter your name here:Shruti\n",
            "enter your age here: 22\n",
            "enter length  of rectangle here:4.66\n",
            "enter any equation here:print(\"hello world\")\n",
            "hello world\n"
          ]
        },
        {
          "output_type": "execute_result",
          "data": {
            "text/plain": [
              "('Shruti', 22, 4.66, None)"
            ]
          },
          "metadata": {},
          "execution_count": 15
        }
      ]
    },
    {
      "cell_type": "code",
      "source": [
        "# typecasting: conversion of one data type into another\n",
        "\"\"\"  there are 2 types\n",
        "1.Implicit: where the python itself converts a datatype into another\n",
        "2.Explicit: where the user converts one datatype into another\n",
        "\"\"\"\n",
        "\n",
        "name = 'john'\n",
        "print(type(name))\n",
        "age = 23\n",
        "print(type(age))\n",
        "\n",
        "# implicit\n",
        "a = 123\n",
        "b = 123.5\n",
        "c = a+b\n",
        "print(type(a))\n",
        "print(type(b))\n",
        "print(type(c))\n",
        "\n",
        "# explicit\n",
        "d = '123'\n",
        "print(type(d))\n",
        "d = int(d)\n",
        "f = d+b\n",
        "print(type(d))\n",
        "print(type(f))"
      ],
      "metadata": {
        "colab": {
          "base_uri": "https://localhost:8080/"
        },
        "id": "Ya96FYvlzOdb",
        "outputId": "e1571550-f630-456b-c9b2-e93341af82d4"
      },
      "execution_count": null,
      "outputs": [
        {
          "output_type": "stream",
          "name": "stdout",
          "text": [
            "<class 'str'>\n",
            "<class 'int'>\n",
            "<class 'int'>\n",
            "<class 'float'>\n",
            "<class 'float'>\n",
            "<class 'str'>\n",
            "<class 'int'>\n",
            "<class 'float'>\n"
          ]
        }
      ]
    },
    {
      "cell_type": "code",
      "source": [
        "# wap to display a persons name, age and address in three different lines\n",
        "name = input(\"enter your name here:\")\n",
        "age = int(input(\"enter your age here: \"))\n",
        "address = input(\"enter your address here:\")\n",
        "print(name)\n",
        "print(age)\n",
        "print(address)"
      ],
      "metadata": {
        "colab": {
          "base_uri": "https://localhost:8080/"
        },
        "id": "jVx6YBgC6fY7",
        "outputId": "64078b5a-3e36-44ff-dab8-86a5fc59cf67"
      },
      "execution_count": null,
      "outputs": [
        {
          "output_type": "stream",
          "name": "stdout",
          "text": [
            "enter your name here:shruti\n",
            "enter your age here: 2\n",
            "enter your address here:rewa\n",
            "shruti\n",
            "2\n",
            "rewa\n"
          ]
        }
      ]
    },
    {
      "cell_type": "code",
      "source": [
        "from re import A\n",
        "# write a program to swap 2 variables\n",
        "# with temporary variable\n",
        "a = int(input(\"enter a:\"))\n",
        "b = int(input(\"enter b:\"))\n",
        "temp = a\n",
        "a=b\n",
        "b=temp\n",
        "print(a)\n",
        "print(b)\n",
        "# method 2\n",
        "a,b = b,a\n",
        "# left,right = right,left\n",
        "print(a)\n",
        "print(b)"
      ],
      "metadata": {
        "colab": {
          "base_uri": "https://localhost:8080/"
        },
        "id": "BPY4h7NB7s0y",
        "outputId": "d2523fba-2516-4a23-a7c5-147f3c749e89"
      },
      "execution_count": null,
      "outputs": [
        {
          "output_type": "stream",
          "name": "stdout",
          "text": [
            "enter a:3\n",
            "enter b:4\n",
            "4\n",
            "3\n",
            "3\n",
            "4\n"
          ]
        }
      ]
    },
    {
      "cell_type": "markdown",
      "source": [
        "# Object Oriented Programming\n"
      ],
      "metadata": {
        "id": "my4b2EBMbgR2"
      }
    },
    {
      "cell_type": "code",
      "source": [
        "# defining a class and creating an Object\n",
        "class computer:\n",
        "  # attributes and behaviours\n",
        "  def config(self):\n",
        "    print(\"i5, 16gb, 1TB\")\n",
        "\n",
        "comp1=computer() #object of computer class\n",
        "print(type(comp1))\n",
        "computer.config(comp1) # calling the method"
      ],
      "metadata": {
        "id": "XtjsczKx8538",
        "colab": {
          "base_uri": "https://localhost:8080/"
        },
        "outputId": "03a8005e-bb0e-40cd-e5b4-5669a3596ece"
      },
      "execution_count": null,
      "outputs": [
        {
          "output_type": "stream",
          "name": "stdout",
          "text": [
            "<class '__main__.computer'>\n",
            "i5, 16gb, 1TB\n"
          ]
        }
      ]
    },
    {
      "cell_type": "code",
      "source": [
        "comp1.config() # this will take comp1 as parameter and pass that in self"
      ],
      "metadata": {
        "colab": {
          "base_uri": "https://localhost:8080/"
        },
        "id": "-WqcxEeWdKzu",
        "outputId": "fcc409fe-5fbc-41ce-85d5-85eeff53d0ee"
      },
      "execution_count": null,
      "outputs": [
        {
          "output_type": "stream",
          "name": "stdout",
          "text": [
            "i5, 16gb, 1TB\n"
          ]
        }
      ]
    },
    {
      "cell_type": "markdown",
      "source": [
        "# __init__ method\n"
      ],
      "metadata": {
        "id": "0IBFgg3Oegxc"
      }
    },
    {
      "cell_type": "code",
      "source": [
        "class computer1:\n",
        "    def __init__(self):  # a constructor gets called whenever an object is created.\n",
        "       print(\"in init\")\n",
        "\n",
        "    def config(self):\n",
        "       print(\"i5\")\n",
        "\n",
        "\n",
        "comp = computer1()\n",
        "comp.config()\n",
        "\n"
      ],
      "metadata": {
        "colab": {
          "base_uri": "https://localhost:8080/"
        },
        "id": "SzCRleePeLmW",
        "outputId": "139d9fe0-254b-411c-b539-d0fce8cbb132"
      },
      "execution_count": null,
      "outputs": [
        {
          "output_type": "stream",
          "name": "stdout",
          "text": [
            "in init\n",
            "i5\n"
          ]
        }
      ]
    },
    {
      "cell_type": "markdown",
      "source": [
        "**Passing Values In Constructors**"
      ],
      "metadata": {
        "id": "b1E2XXYpijS1"
      }
    },
    {
      "cell_type": "code",
      "source": [
        "from os import cpu_count\n",
        "class computer1:\n",
        "    def __init__(self, cpu,ram):\n",
        "       self.cpu = cpu\n",
        "       self.ram = ram\n",
        "\n",
        "\n",
        "    def config(self):\n",
        "       print(\"the config is :\",self.cpu,self.ram)\n",
        "\n",
        "\n",
        "comp = computer1('i5', '8GB')\n",
        "comp2 = computer1('rayzen', 16)\n",
        "\n",
        "comp.config()\n",
        "comp2.config()"
      ],
      "metadata": {
        "id": "Y7Z2FQuhfdHh",
        "colab": {
          "base_uri": "https://localhost:8080/"
        },
        "outputId": "a8730c3c-159a-4872-daa2-6bca14ce5dad"
      },
      "execution_count": 36,
      "outputs": [
        {
          "output_type": "stream",
          "name": "stdout",
          "text": [
            "the config is : i5 8GB\n",
            "the config is : rayzen 16\n"
          ]
        }
      ]
    },
    {
      "cell_type": "markdown",
      "source": [
        "__Constructer , Self and Comparing Objects__"
      ],
      "metadata": {
        "id": "FF8Ik8f_jyqn"
      }
    },
    {
      "cell_type": "code",
      "source": [
        "class computer:\n",
        "  pass\n",
        "\n",
        "c1 = computer() # here c1 is refering to an object which is stored in heap memory\n",
        "print(id(c1)) # will return the address of the heap memory where object is created"
      ],
      "metadata": {
        "colab": {
          "base_uri": "https://localhost:8080/"
        },
        "id": "5pJXwiU9i3YJ",
        "outputId": "87c42a3d-a4a8-4b05-d4c7-66df7aa323c3"
      },
      "execution_count": 39,
      "outputs": [
        {
          "output_type": "stream",
          "name": "stdout",
          "text": [
            "137631607027216\n"
          ]
        }
      ]
    },
    {
      "cell_type": "code",
      "source": [
        "class computer:\n",
        "  def __init__(self):\n",
        "    self.name = 'john'\n",
        "    self.age = 23\n",
        "\n",
        "  def update(self):\n",
        "     self.age = 30\n",
        "\n",
        "c1 = computer()\n",
        "c2 = computer()\n",
        "c1.name=\"shruti\"\n",
        "print(c1.name)\n",
        "print(c2.name)"
      ],
      "metadata": {
        "colab": {
          "base_uri": "https://localhost:8080/"
        },
        "id": "YxOzZZ5kkkU3",
        "outputId": "97ea2bae-b110-4a38-a1f8-25e9b8161f06"
      },
      "execution_count": 41,
      "outputs": [
        {
          "output_type": "stream",
          "name": "stdout",
          "text": [
            "shruti\n",
            "john\n"
          ]
        }
      ]
    },
    {
      "cell_type": "code",
      "source": [],
      "metadata": {
        "id": "CJUNvYsflCxg"
      },
      "execution_count": null,
      "outputs": []
    }
  ]
}