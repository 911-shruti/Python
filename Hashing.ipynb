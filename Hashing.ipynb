{
  "nbformat": 4,
  "nbformat_minor": 0,
  "metadata": {
    "colab": {
      "provenance": [],
      "authorship_tag": "ABX9TyORyd2kIWoPa+4KgPO9w/Hr",
      "include_colab_link": true
    },
    "kernelspec": {
      "name": "python3",
      "display_name": "Python 3"
    },
    "language_info": {
      "name": "python"
    }
  },
  "cells": [
    {
      "cell_type": "markdown",
      "metadata": {
        "id": "view-in-github",
        "colab_type": "text"
      },
      "source": [
        "<a href=\"https://colab.research.google.com/github/911-shruti/Python/blob/main/Hashing.ipynb\" target=\"_parent\"><img src=\"https://colab.research.google.com/assets/colab-badge.svg\" alt=\"Open In Colab\"/></a>"
      ]
    },
    {
      "cell_type": "markdown",
      "source": [
        "# Frequency Map/Dictionary:\n",
        "Store frequency in Dictionary\n",
        "\n",
        "TC: O(N)\n",
        "\n",
        "SC: O(N)"
      ],
      "metadata": {
        "id": "4Yf_2mFBL3ux"
      }
    },
    {
      "cell_type": "code",
      "execution_count": 3,
      "metadata": {
        "colab": {
          "base_uri": "https://localhost:8080/"
        },
        "id": "-58ISsl1L0Lr",
        "outputId": "a21c2c3c-ba53-4a28-a32d-8266776b548c"
      },
      "outputs": [
        {
          "output_type": "stream",
          "name": "stdout",
          "text": [
            "5\n"
          ]
        }
      ],
      "source": [
        "nums = [5,6,7,7,1,9,11,1,1,5,1,1]\n",
        "freq_map = dict() # or {}\n",
        "for i in range (0 , len(nums)):\n",
        "  if nums[i] in freq_map:\n",
        "    freq_map[nums[i]] += 1\n",
        "  else:\n",
        "    freq_map[nums[i]] = 1\n",
        "x = 1\n",
        "print(freq_map[x])"
      ]
    },
    {
      "cell_type": "code",
      "source": [],
      "metadata": {
        "id": "JIls-rvsN-9l"
      },
      "execution_count": null,
      "outputs": []
    }
  ]
}